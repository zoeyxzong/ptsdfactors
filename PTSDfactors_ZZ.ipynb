{
  "nbformat": 4,
  "nbformat_minor": 0,
  "metadata": {
    "colab": {
      "name": "PTSDfactors_ZZ.ipynb",
      "provenance": [],
      "authorship_tag": "ABX9TyNZsTOKON1fumaLyEFtK99r",
      "include_colab_link": true
    },
    "kernelspec": {
      "name": "ir",
      "display_name": "R"
    },
    "language_info": {
      "name": "R"
    }
  },
  "cells": [
    {
      "cell_type": "markdown",
      "metadata": {
        "id": "view-in-github",
        "colab_type": "text"
      },
      "source": [
        "<a href=\"https://colab.research.google.com/github/zoeyxzong/ptsdfactors/blob/main/PTSDfactors_ZZ.ipynb\" target=\"_parent\"><img src=\"https://colab.research.google.com/assets/colab-badge.svg\" alt=\"Open In Colab\"/></a>"
      ]
    },
    {
      "cell_type": "markdown",
      "metadata": {
        "id": "jS3PJ0uxXC-g"
      },
      "source": [
        "# **A P-Technique Factor Analysis of Post-Traumatic Stress Disorder Symptoms**\n",
        "### Zoe Zong | Digital Humanities 100 | June 2021\n",
        "\n",
        "\n",
        "---\n",
        "\n"
      ]
    },
    {
      "cell_type": "markdown",
      "metadata": {
        "id": "hW_mTLFOhhZN"
      },
      "source": [
        "## **1. Library and Functions**\n"
      ]
    },
    {
      "cell_type": "markdown",
      "metadata": {
        "id": "9X4Ha-PNhqRr"
      },
      "source": [
        "\n",
        "*   Load Packages\n",
        "\n"
      ]
    },
    {
      "cell_type": "code",
      "metadata": {
        "id": "pfp14ZJm1mhD"
      },
      "source": [
        "install.packages('psych')\n",
        "install.packages('glmnet')\n",
        "install.packages('Hmisc')\n",
        "install.packages('fmsb')\n",
        "install.packages('DataCombine')\n",
        "install.packages('tidyLPA')\n",
        "install.packages('tidyverse')\n",
        "install.packages('dplyr')\n",
        "install.packages('mclust')\n",
        "install.packages('mgm')\n",
        "install.packages('qgraph')\n",
        "install.packages('pROC')\n",
        "install.packages('reshape2')\n",
        "install.packages('graphicalVAR')"
      ],
      "execution_count": null,
      "outputs": []
    },
    {
      "cell_type": "code",
      "metadata": {
        "id": "JkXwFGy6dCeB",
        "colab": {
          "base_uri": "https://localhost:8080/",
          "height": 131
        },
        "outputId": "03d42414-16a0-479d-a842-f6de1fe070ba"
      },
      "source": [
        "rm(list=ls())\n",
        "lagpad <- function(x, k) {\n",
        "  c(rep(NA, k), x)[1 : length(x)] \n",
        "}  # used for creating lagged data structure\n",
        "\n",
        "library(psych)\n",
        "library(glmnet)\n",
        "library(Hmisc)\n",
        "library(fmsb)\n",
        "library(DataCombine)\n",
        "library(tidyLPA)\n",
        "library(tidyverse)\n",
        "library(dplyr)\n",
        "library(mclust)\n",
        "library(mgm)\n",
        "library(qgraph)\n",
        "library(pROC)\n",
        "library(reshape2)\n",
        "library(graphicalVAR)"
      ],
      "execution_count": null,
      "outputs": [
        {
          "output_type": "error",
          "ename": "ERROR",
          "evalue": "ignored",
          "traceback": [
            "Error in library(psych): there is no package called ‘psych’\nTraceback:\n",
            "1. library(psych)"
          ]
        }
      ]
    },
    {
      "cell_type": "markdown",
      "metadata": {
        "id": "dd8dm-BPh2Bb"
      },
      "source": [
        "* beepday2consec"
      ]
    },
    {
      "cell_type": "code",
      "metadata": {
        "id": "Lm-iQqXUh80-"
      },
      "source": [
        "beepday2consec <- function(beepvar, # Beep number in EMA study\n",
        "                           dayvar) # Day Number\n",
        "# a function that flags each timepoint as either ping 1/2/3/4, day#, and index of each ping out of the total # of pings\n",
        "{\n",
        "  \n",
        "  # Input Checks\n",
        "  if(!all(dayvar == round(dayvar))) stop(\"beepvar has to be a vector of non-negative integers\")\n",
        "  if(!all(beepvar == round(beepvar))) stop(\"beepvar has to be a vector of non-negative integers\")\n",
        "  if(length(beepvar) != length(dayvar)) stop(\"beepvar has to have the same length as dayvar\")\n",
        "  \n",
        "  # Compute Aux variables\n",
        "  fillin_beep <- max(beepvar) + 2 # fill in an integer for day/night shifts that ensures that lagData() treats this data point as non-consecutive\n",
        "  n <- length(dayvar)\n",
        "  \n",
        "  # Get day breaks\n",
        "  ind_sameday <- dayvar[-1] == dayvar[-n]\n",
        "  ind_sameday[1] <- TRUE # dont change beep of first measurement\n",
        "  \n",
        "  consec <- rep(NA, n)\n",
        "  consec[1] <- 1\n",
        "  \n",
        "  # check consecutiveness for each (consecutive) row-pair\n",
        "  counter <- 1\n",
        "  for(i in 2:n) {\n",
        "    beep_diff <- beepvar[i] - beepvar[i-1]\n",
        "    day_diff <- dayvar[i] - dayvar[i-1]\n",
        "    if(beep_diff == 1 & day_diff == 0) counter <- counter + 1 else counter <- counter + 2\n",
        "    consec[i] <- counter\n",
        "  }\n",
        "  \n",
        "  return(consec)\n",
        "  \n",
        "}"
      ],
      "execution_count": null,
      "outputs": []
    },
    {
      "cell_type": "markdown",
      "metadata": {
        "id": "zuneig2ZiHbZ"
      },
      "source": [
        "* lagData"
      ]
    },
    {
      "cell_type": "code",
      "metadata": {
        "id": "z3MZX8z1iM5g"
      },
      "source": [
        "#creates the lagged structure\n",
        "lagData <- function(data, \n",
        "                    lags, \n",
        "                    consec = NULL) {\n",
        "  \n",
        "  \n",
        "  # ---------- Compute Aux Variables ----------\n",
        "  \n",
        "  data <- as.matrix(data) # turn into matrix\n",
        "  \n",
        "  max_lag <- max(lags) # maximum lag\n",
        "  lags_ext <- 1:max(lags) # makes it easier to delete right columns\n",
        "  \n",
        "  n <- nrow(data)\n",
        "  p <- ncol(data)\n",
        "  n_var <- nrow(data) - max(lags)\n",
        "  n_lags <- length(lags_ext)\n",
        "  \n",
        "  data_response <- data #[-c(1:max_lag), ]\n",
        "  \n",
        "  if(!is.null(consec)) m_consec <- matrix(NA, \n",
        "                                          nrow = n, \n",
        "                                          ncol = n_lags)\n",
        "  \n",
        "  # ---------- Lag Variables ----------\n",
        "  \n",
        "  # Storage\n",
        "  l_data_lags <- list()\n",
        "  \n",
        "  # Loop through lags\n",
        "  lag_pos <- 1 # to make sure that the list is filled successively, if not a full sequence (e.g. lags = c(1,5)); otherwise this leads to problems later in the code  \n",
        "  for(lag in lags) {\n",
        "    \n",
        "    lagged_data <- matrix(NA, nrow = n, ncol=p)\n",
        "    lagged_data[(lag+1):n, ] <- data[-((n-lag+1) : n), ]\n",
        "    lagged_data <- matrix(lagged_data, \n",
        "                          ncol = p, \n",
        "                          nrow = n) \n",
        "    colnames(lagged_data) <- paste(\"V\", 1:p, '.lag', lag, '.', sep = \"\")\n",
        "    \n",
        "    l_data_lags[[lag_pos]] <- lagged_data\n",
        "    \n",
        "    lag_pos <- lag_pos + 1\n",
        "  }\n",
        "  \n",
        "  # ---------- Knock Out if not consecutive ----------\n",
        "  \n",
        "  \n",
        "  # browser()\n",
        "  \n",
        "  if(!is.null(consec)) {\n",
        "    \n",
        "    for(lag in lags_ext)  m_consec[(lag+1):n, lag] <- consec[-((n-lag+1) : n)]\n",
        "    \n",
        "    # Calculate which cases to knock out\n",
        "    m_consec_check <- cbind(consec, m_consec)\n",
        "    \n",
        "    v_check <- apply(m_consec_check, 1, function(x) {\n",
        "      \n",
        "      if(any(is.na(x))) {\n",
        "        FALSE\n",
        "      } else {\n",
        "        check_row <- x[1] - x[-1] == 1:length(x[-1]) # check for extended lags 1:max(lags)\n",
        "        check_row_relevant <- check_row[lags_ext %in% lags] # but then compute check only over the lags that are actually specified\n",
        "        if(any(check_row_relevant == FALSE)) FALSE else TRUE # and return test result: any required previous measurement missing? => FALSE\n",
        "      }\n",
        "      \n",
        "    })\n",
        "    \n",
        "  } else {\n",
        "    \n",
        "    v_check <- rep(TRUE, n)\n",
        "    v_check[1:n_lags] <- FALSE\n",
        "    \n",
        "  }\n",
        "  \n",
        "  \n",
        "  # ---------- Output ----------\n",
        "  \n",
        "  outlist <- list()\n",
        "  outlist$data_response <- data_response\n",
        "  outlist$l_data_lags <- l_data_lags\n",
        "  outlist$included <- v_check\n",
        "  \n",
        "  \n",
        "  return(outlist)\n",
        "  \n",
        "}"
      ],
      "execution_count": null,
      "outputs": []
    },
    {
      "cell_type": "markdown",
      "metadata": {
        "id": "Oz05KUmriUbx"
      },
      "source": [
        "\n",
        "\n",
        "\n",
        "---\n",
        "\n",
        "\n",
        "## **2. Data Setup and Cleaning**"
      ]
    },
    {
      "cell_type": "markdown",
      "metadata": {
        "id": "SyyQipKbjyXh"
      },
      "source": [
        "\n",
        "\n",
        "*   Read in and view data\n",
        "\n"
      ]
    },
    {
      "cell_type": "code",
      "metadata": {
        "id": "faqXe8iZj5AE",
        "colab": {
          "base_uri": "https://localhost:8080/",
          "height": 218
        },
        "outputId": "bb115552-c3d8-49db-8198-729f33b6e4a1"
      },
      "source": [
        "#Read in data\n",
        "data <- read.csv(\"dat.csv\", as.is=TRUE)\n",
        "\n",
        "#let's check out the data\n",
        "View(data)"
      ],
      "execution_count": null,
      "outputs": [
        {
          "output_type": "stream",
          "text": [
            "Warning message in file(file, \"rt\"):\n",
            "“cannot open file 'dat.csv': No such file or directory”\n"
          ],
          "name": "stderr"
        },
        {
          "output_type": "error",
          "ename": "ERROR",
          "evalue": "ignored",
          "traceback": [
            "Error in file(file, \"rt\"): cannot open the connection\nTraceback:\n",
            "1. read.csv(\"dat.csv\", as.is = TRUE)",
            "2. read.table(file = file, header = header, sep = sep, quote = quote, \n .     dec = dec, fill = fill, comment.char = comment.char, ...)",
            "3. file(file, \"rt\")"
          ]
        }
      ]
    },
    {
      "cell_type": "markdown",
      "metadata": {
        "id": "SZ8mZNh8kBm7"
      },
      "source": [
        "* delete variables that were asked one time per day (these happen to be sleep variables):"
      ]
    },
    {
      "cell_type": "code",
      "metadata": {
        "id": "PYIVXHMij8hu"
      },
      "source": [
        "\n",
        "#TST= how many hours did you sleep last night\n",
        "#SQ= experienced restless or unsatifysing sleep\n",
        "#SOL= had trouble falling or staying asleep \n",
        "\n",
        "#keep sleep variables that were asked four times per day:\n",
        "#dreams = had unpleasant dreams about a traumatic event\n",
        "#sleepy = felt sleepy \n",
        "\n",
        "data[12:14] <- NULL"
      ],
      "execution_count": null,
      "outputs": []
    },
    {
      "cell_type": "markdown",
      "metadata": {
        "id": "m2uVlFRPkFKr"
      },
      "source": [
        "* Rename"
      ]
    },
    {
      "cell_type": "code",
      "metadata": {
        "id": "9cjnVy5PkNxQ"
      },
      "source": [
        "colnames(data) <- c(\"start\",\"finish\",\"enthus\", \"hyper\", \"agg\", \"fear\", \"self\", \"cogav\", \"relive\", \"dreams\", \"mem\", \"horror\", \"angry\", \"guilt\", \"shame\", \"other\",\"world\", \"blameS\", \"blameO\", \"behav\", \"upset\", \"phys\", \"amnesia\", \"anhed\", \"distant\", \"difpos\", \"reck\", \"startle\", \"concen\", \"sleepy\", \"positive\", \"happy\", \"content\", \"calm\", \"fatigue\",\"tense\")\n",
        "\n",
        "data$start <- as.character(data$start)\n",
        "data$finish <- as.character(data$finish)\n",
        "\n",
        "View(data)"
      ],
      "execution_count": null,
      "outputs": []
    },
    {
      "cell_type": "markdown",
      "metadata": {
        "id": "TP0Ihb5CkQJ3"
      },
      "source": [
        "* More Data Cleaning"
      ]
    },
    {
      "cell_type": "code",
      "metadata": {
        "id": "d-MPiPvxidKw"
      },
      "source": [
        "\n",
        "\n",
        "#Duplicate and lag time\n",
        "data$lag=lagpad(data$start,1)\n",
        "\n",
        "#Calculate time differences\n",
        "data$tdif=as.numeric(difftime(strptime(data$start,\"%m/%d/%Y %H:%M\"),strptime(data$lag,\"%m/%d/%Y %H:%M\")))\n",
        "\n",
        "#Replace NA\n",
        "data$tdif[is.na(data$tdif)]<- 0\n",
        "\n",
        "#Calculate cumulative sum of numeric elapsed time\n",
        "data$cumsumT=cumsum(data$tdif)\n",
        "\n",
        "# how many obs, and how many are complete\n",
        "nrow(data) #124\n",
        "length(which(complete.cases(data[,3]))) #104\n",
        "\n",
        "#Trim time series to even 4obs/day\n",
        "#first visualize and determine where to trim.\n",
        "options(width=90)\n",
        "data$start\n",
        "dati=data\n",
        "dati$start\n",
        "length(which(complete.cases(dati[,3])))\n",
        "\n",
        "#Use for internal missing rows: add a row where it's missing\n",
        "new <- rep(NA, length(dati))\n",
        "dati <- InsertRow(dati, NewRow=new, RowNum = 1)\n",
        "dati <- InsertRow(dati, NewRow=new)\n",
        "dati <- InsertRow(dati, NewRow=new)\n",
        "dati <- InsertRow(dati, NewRow=new)\n",
        "dati$start\n",
        "\n",
        "#Code days of the week\n",
        "dati$day <- rep(1:7, each=4, length.out=nrow(dati)) #https://lubridate.tidyverse.org/ - need to convert 'time' column into lubridate formate (can also use this to calculate time differences)\n",
        "# 1 = Tuesday\n",
        "dati$mon=ifelse(dati$day==7,1,0)\n",
        "dati$tues=ifelse(dati$day==1,1,0)\n",
        "dati$wed=ifelse(dati$day==2,1,0)\n",
        "dati$thur=ifelse(dati$day==3,1,0)\n",
        "dati$fri=ifelse(dati$day==4,1,0)\n",
        "dati$sat=ifelse(dati$day==5,1,0)\n",
        "dati$sun=ifelse(dati$day==6,1,0)\n",
        "\n",
        "#Code pings\n",
        "dati$ping=seq(0,3,1)\n",
        "dati$morning=ifelse(dati$ping==0,1,0)\n",
        "dati$midday=ifelse(dati$ping==1,1,0)\n",
        "dati$eve=ifelse(dati$ping==2,1,0)\n",
        "dati$night=ifelse(dati$ping==3,1,0)\n",
        "datx=dati\n",
        "\n",
        "#Temporal variables\n",
        "datx$linear=scale(datx$cumsumT)\n",
        "datx$quad=datx$linear^2\n",
        "datx$cub=datx$linear^3\n",
        "datx$cosT=cos(((2*pi)/24)*datx$cumsumT)\n",
        "datx$sinT=sin(((2*pi)/24)*datx$cumsumT)\n",
        "datx$cos2T=cos(((2*pi)/12)*datx$cumsumT)\n",
        "datx$sin2T=sin(((2*pi)/12)*datx$cumsumT)\n",
        "datx$cosW=cos(((2*pi)/168)*datx$cumsumT)\n",
        "datx$sinW=sin(((2*pi)/168)*datx$cumsumT)\n",
        "\n",
        "#Index consecutive measurements by ping and day\n",
        "datx$dayvar=rep(1:(nrow(datx)/4),each=4)\n",
        "datx$beepvar=datx$ping+1\n",
        "\n",
        "#Create filter to mark cases with missing data\n",
        "datx$filter=ifelse(!complete.cases(datx[,c(3:24)]),1,0)\n",
        "\n",
        "## Remove NAs, suppress row names\n",
        "daty=subset(datx,filter==0)\n",
        "row.names(daty)<- NULL\n",
        "\n"
      ],
      "execution_count": null,
      "outputs": []
    },
    {
      "cell_type": "markdown",
      "metadata": {
        "id": "gUuZlCbNkcNZ"
      },
      "source": [
        "* Check out the cleaned data"
      ]
    },
    {
      "cell_type": "code",
      "metadata": {
        "id": "kH6bmQcCkewJ"
      },
      "source": [
        "View(daty)"
      ],
      "execution_count": null,
      "outputs": []
    },
    {
      "cell_type": "markdown",
      "metadata": {
        "id": "CS_BZb5dkpc9"
      },
      "source": [
        "## **3. Exploratory Factor Analysis**"
      ]
    },
    {
      "cell_type": "code",
      "metadata": {
        "id": "bl0xqVkOkytV"
      },
      "source": [
        ""
      ],
      "execution_count": null,
      "outputs": []
    },
    {
      "cell_type": "markdown",
      "metadata": {
        "id": "OlSsS_i2k0I2"
      },
      "source": [
        "## **4. Confirmatory Factor Analysis**"
      ]
    },
    {
      "cell_type": "code",
      "metadata": {
        "id": "V9NU0Fmmk5kG"
      },
      "source": [
        ""
      ],
      "execution_count": null,
      "outputs": []
    },
    {
      "cell_type": "markdown",
      "metadata": {
        "id": "sG7g_RK3lEeT"
      },
      "source": [
        "## **5. Visualization**"
      ]
    },
    {
      "cell_type": "code",
      "metadata": {
        "id": "8zYYF_1HlHDo"
      },
      "source": [
        ""
      ],
      "execution_count": null,
      "outputs": []
    },
    {
      "cell_type": "markdown",
      "metadata": {
        "id": "PDhuygZ8k9DT"
      },
      "source": [
        "## **6. Summary**"
      ]
    },
    {
      "cell_type": "code",
      "metadata": {
        "id": "2OXs1J0Ck8Ih"
      },
      "source": [
        ""
      ],
      "execution_count": null,
      "outputs": []
    }
  ]
}